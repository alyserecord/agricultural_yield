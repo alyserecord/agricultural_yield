{
 "cells": [
  {
   "cell_type": "code",
   "execution_count": 5,
   "metadata": {},
   "outputs": [],
   "source": [
    "import pandas as pd\n",
    "import numpy as np\n",
    "import matplotlib.pyplot as plt\n",
    "plt.style.use('ggplot')\n",
    "\n",
    "# read in csv\n",
    "df = pd.read_csv('../data/Production_Crops_E_All_Data_NOFLAG.csv', encoding = \"ISO-8859-1\")\n",
    "\n",
    "# clean column names\n",
    "cols = df.columns\n",
    "cols = [col.lower().replace(' ', '_') for col in cols]\n",
    "new_cols = []\n",
    "for col in cols:\n",
    "    if col[0] == 'y':\n",
    "        new_cols.append(col[1:])\n",
    "    else:\n",
    "        new_cols.append(col)\n",
    "df.columns = new_cols"
   ]
  },
  {
   "cell_type": "code",
   "execution_count": 6,
   "metadata": {},
   "outputs": [],
   "source": [
    "def global_change_rate(crop,element='Yield'):\n",
    "    df_filtered = df.loc[(df['item'] == crop) & (df['element'] == element)]\n",
    "    change_rate = []\n",
    "    for i in range(1,57):\n",
    "        rate = (np.mean(df_filtered.iloc[:,i+7])/np.mean(df_filtered.iloc[:,i+6]))\n",
    "        change_rate.append(('{} to {}'.format(df.columns[i+6],df.columns[i+7]),rate -1))\n",
    "    return change_rate\n",
    "\n",
    "def global_significant_rate_decrease(crop,element='Yield',decrease = -.25):\n",
    "    rate = global_change_rate(crop,element)\n",
    "    rate_decreases = []\n",
    "    for item in rate:\n",
    "        if item[1] < decrease:\n",
    "            rate_decreases.append(item)\n",
    "    return rate_decreases\n",
    "\n",
    "def global_significant_rate_increase(crop,element='Yield',increase=.25):\n",
    "    rate = global_change_rate(crop,element)\n",
    "    rate_increases = []\n",
    "    for item in rate:\n",
    "        if item[1] > increase:\n",
    "            rate_increases.append(item)\n",
    "    return rate_increases\n",
    "\n",
    "\n",
    "def all_signficant_increases():\n",
    "    crops = df['item'].unique()\n",
    "    crops_increases = []\n",
    "    for crop in crops:\n",
    "        increases = global_significant_rate_increase(crop)\n",
    "        if len(increases) > 2:\n",
    "            crops_increases.append(crop)\n",
    "    return(crops_increases)\n",
    "\n",
    "def all_signficant_decreases():\n",
    "    crops = df['item'].unique()\n",
    "    crops_decreases = []\n",
    "    for crop in crops:\n",
    "        decreases = global_significant_rate_decrease(crop)\n",
    "        if len(decreases) > 2:\n",
    "            crops_decreases.append(crop)\n",
    "    return(crops_decreases)"
   ]
  },
  {
   "cell_type": "code",
   "execution_count": 7,
   "metadata": {},
   "outputs": [
    {
     "data": {
      "text/plain": [
       "['Anise, badian, fennel, coriander',\n",
       " 'Fruit, stone nes',\n",
       " 'Nuts, nes',\n",
       " 'Pistachios',\n",
       " 'Spices, nes',\n",
       " 'Walnuts, with shell',\n",
       " 'Oilcrops, Cake Equivalent',\n",
       " 'Oilcrops, Oil Equivalent',\n",
       " 'Treenuts,Total',\n",
       " 'Quinces',\n",
       " 'Carobs',\n",
       " 'Fruit, tropical fresh nes',\n",
       " 'Mangoes, mangosteens, guavas',\n",
       " 'Oilseeds nes',\n",
       " 'Peppermint',\n",
       " 'Blueberries',\n",
       " 'Mustard seed',\n",
       " 'Brazil nuts, with shell',\n",
       " 'Pyrethrum, dried',\n",
       " 'Cloves',\n",
       " 'Jojoba seed']"
      ]
     },
     "execution_count": 7,
     "metadata": {},
     "output_type": "execute_result"
    }
   ],
   "source": [
    "all_signficant_decreases()"
   ]
  },
  {
   "cell_type": "code",
   "execution_count": 86,
   "metadata": {},
   "outputs": [],
   "source": [
    "def global_item(crop,element='Yield'):\n",
    "    df_filtered = df.loc[(df['item'] == crop) & (df['element'] == element)]\n",
    "    years = []\n",
    "    for i in range(1,58):\n",
    "        year_avg = np.mean(df_filtered.iloc[:,i+6])\n",
    "        years.append((df.columns[i+6],year_avg))\n",
    "    return years"
   ]
  },
  {
   "cell_type": "code",
   "execution_count": 87,
   "metadata": {},
   "outputs": [
    {
     "data": {
      "text/plain": [
       "[('1961', 54031.4),\n",
       " ('1962', 51505.4),\n",
       " ('1963', 51087.4),\n",
       " ('1964', 52287.0),\n",
       " ('1965', 53491.6),\n",
       " ('1966', 45410.77777777778),\n",
       " ('1967', 42683.666666666664),\n",
       " ('1968', 42847.333333333336),\n",
       " ('1969', 28046.666666666668),\n",
       " ('1970', 27764.0),\n",
       " ('1971', 23135.11111111111),\n",
       " ('1972', 18810.75),\n",
       " ('1973', 22557.75),\n",
       " ('1974', 28239.666666666668),\n",
       " ('1975', 19253.583333333332),\n",
       " ('1976', 19908.916666666668),\n",
       " ('1977', 20555.5),\n",
       " ('1978', 20592.083333333332),\n",
       " ('1979', 22866.916666666668),\n",
       " ('1980', 19396.583333333332),\n",
       " ('1981', 20687.916666666668),\n",
       " ('1982', 19518.083333333332),\n",
       " ('1983', 19748.5),\n",
       " ('1984', 18880.833333333332),\n",
       " ('1985', 28322.714285714286),\n",
       " ('1986', 29255.928571428572),\n",
       " ('1987', 32150.214285714286),\n",
       " ('1988', 136345.5625),\n",
       " ('1989', 108579.09090909091),\n",
       " ('1990', 37873.75),\n",
       " ('1991', 43502.46153846154),\n",
       " ('1992', 44063.375),\n",
       " ('1993', 42540.93939393939),\n",
       " ('1994', 43549.93939393939),\n",
       " ('1995', 49480.08823529412),\n",
       " ('1996', 51157.35294117647),\n",
       " ('1997', 48842.08823529412),\n",
       " ('1998', 47359.85294117647),\n",
       " ('1999', 50855.117647058825),\n",
       " ('2000', 50781.77142857143),\n",
       " ('2001', 54270.583333333336),\n",
       " ('2002', 49962.94594594595),\n",
       " ('2003', 46079.5),\n",
       " ('2004', 48166.58974358974),\n",
       " ('2005', 45052.95),\n",
       " ('2006', 44804.51219512195),\n",
       " ('2007', 47779.60975609756),\n",
       " ('2008', 46658.0243902439),\n",
       " ('2009', 53949.29268292683),\n",
       " ('2010', 49904.704545454544),\n",
       " ('2011', 46865.068181818184),\n",
       " ('2012', 48470.90909090909),\n",
       " ('2013', 49987.90909090909),\n",
       " ('2014', 51935.97727272727),\n",
       " ('2015', 52349.40909090909),\n",
       " ('2016', 53445.704545454544),\n",
       " ('2017', 58708.86363636364)]"
      ]
     },
     "execution_count": 87,
     "metadata": {},
     "output_type": "execute_result"
    }
   ],
   "source": [
    "global_item('Blueberries')"
   ]
  },
  {
   "cell_type": "code",
   "execution_count": null,
   "metadata": {},
   "outputs": [],
   "source": []
  },
  {
   "cell_type": "code",
   "execution_count": 88,
   "metadata": {},
   "outputs": [],
   "source": [
    "def plot_crop(crop,element='Yield'):\n",
    "    fig,ax = plt.subplots(figsize=(16,10))\n",
    "    ax.plot()\n",
    "    lst = global_item(crop,element)\n",
    "    x=[]\n",
    "    y=[]\n",
    "    for i,j in lst:\n",
    "        x.append(i)\n",
    "        y.append(j)\n",
    "    \n",
    "    plt.plot (x,y)\n",
    "    for label in ax.xaxis.get_ticklabels()[::2]:\n",
    "        label.set_visible(False)"
   ]
  },
  {
   "cell_type": "code",
   "execution_count": 89,
   "metadata": {},
   "outputs": [
    {
     "data": {
      "image/png": "[encoded data removed]",
      "text/plain": [
       "<Figure size 1152x720 with 1 Axes>"
      ]
     },
     "metadata": {},
     "output_type": "display_data"
    },
    {
     "name": "stdout",
     "output_type": "stream",
     "text": [
      "AxesSubplot(0.125,0.125;0.775x0.755)\n"
     ]
    }
   ],
   "source": [
    "plot_crop('Blueberries','Yield')"
   ]
  },
  {
   "cell_type": "code",
   "execution_count": null,
   "metadata": {},
   "outputs": [],
   "source": []
  }
 ],
 "metadata": {
  "kernelspec": {
   "display_name": "Python 3",
   "language": "python",
   "name": "python3"
  },
  "language_info": {
   "codemirror_mode": {
    "name": "ipython",
    "version": 3
   },
   "file_extension": ".py",
   "mimetype": "text/x-python",
   "name": "python",
   "nbconvert_exporter": "python",
   "pygments_lexer": "ipython3",
   "version": "3.7.1"
  }
 },
 "nbformat": 4,
 "nbformat_minor": 2
}
